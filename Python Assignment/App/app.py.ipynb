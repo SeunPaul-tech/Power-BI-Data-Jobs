{
 "cells": [
  {
   "cell_type": "code",
   "execution_count": 2,
   "id": "444876ab-6726-489d-bcbf-8742266a7d9a",
   "metadata": {},
   "outputs": [
    {
     "name": "stderr",
     "output_type": "stream",
     "text": [
      "2025-07-25 11:31:57.943 \n",
      "  \u001b[33m\u001b[1mWarning:\u001b[0m to view this Streamlit app on a browser, run it with the following\n",
      "  command:\n",
      "\n",
      "    streamlit run C:\\Users\\HP\\.anaconda\\Anaconda\\Lib\\site-packages\\ipykernel_launcher.py [ARGUMENTS]\n"
     ]
    }
   ],
   "source": [
    "# app.py\n",
    "\n",
    "import streamlit as st\n",
    "import joblib\n",
    "import numpy as np\n",
    "\n",
    "# Load trained model and scaler\n",
    "model = joblib.load('breast_cancer_model.pkl')\n",
    "scaler = joblib.load('scaler.pkl')\n",
    "\n",
    "# App title and description\n",
    "st.set_page_config(page_title=\"Breast Cancer Classifier\", layout=\"centered\")\n",
    "st.title(\"🔬 Breast Cancer Prediction App\")\n",
    "st.markdown(\"\"\"\n",
    "This app predicts whether a breast tumor is **Malignant (cancerous)** or **Benign (non-cancerous)**  \n",
    "based on diagnostic features from a breast mass.\n",
    "\"\"\")\n",
    "\n",
    "st.write(\"### Enter Diagnostic Feature Values:\")\n",
    "\n",
    "# Feature input fields (10 key features as example)\n",
    "radius_mean = st.number_input('Radius Mean', min_value=0.0, format=\"%.4f\")\n",
    "texture_mean = st.number_input('Texture Mean', min_value=0.0, format=\"%.4f\")\n",
    "perimeter_mean = st.number_input('Perimeter Mean', min_value=0.0, format=\"%.4f\")\n",
    "area_mean = st.number_input('Area Mean', min_value=0.0, format=\"%.4f\")\n",
    "smoothness_mean = st.number_input('Smoothness Mean', min_value=0.0, format=\"%.4f\")\n",
    "compactness_mean = st.number_input('Compactness Mean', min_value=0.0, format=\"%.4f\")\n",
    "concavity_mean = st.number_input('Concavity Mean', min_value=0.0, format=\"%.4f\")\n",
    "concave_points_mean = st.number_input('Concave Points Mean', min_value=0.0, format=\"%.4f\")\n",
    "symmetry_mean = st.number_input('Symmetry Mean', min_value=0.0, format=\"%.4f\")\n",
    "fractal_dimension_mean = st.number_input('Fractal Dimension Mean', min_value=0.0, format=\"%.4f\")\n",
    "\n",
    "# Collect inputs into array\n",
    "features = np.array([[radius_mean, texture_mean, perimeter_mean, area_mean,\n",
    "                      smoothness_mean, compactness_mean, concavity_mean,\n",
    "                      concave_points_mean, symmetry_mean, fractal_dimension_mean]])\n",
    "\n",
    "# Predict on button click\n",
    "if st.button(\"Predict\"):\n",
    "    # Scale input\n",
    "    scaled_input = scaler.transform(features)\n",
    "    \n",
    "    # Make prediction\n",
    "    prediction = model.predict(scaled_input)[0]\n",
    "    prob = model.predict_proba(scaled_input)[0][1]  # Probability of malignancy\n",
    "\n",
    "    # Display result\n",
    "    if prediction == 1:\n",
    "        st.error(f\"🔴 Prediction: **Malignant** (Cancerous) \\n\\nConfidence: {prob:.2%}\")\n",
    "    else:\n",
    "        st.success(f\"🟢 Prediction: **Benign** (Non-cancerous) \\n\\nConfidence: {1 - prob:.2%}\")\n"
   ]
  },
  {
   "cell_type": "code",
   "execution_count": null,
   "id": "17e2cbf1-31ef-4fff-a2a9-93df45f55e0c",
   "metadata": {},
   "outputs": [],
   "source": []
  }
 ],
 "metadata": {
  "kernelspec": {
   "display_name": "Python 3 (ipykernel)",
   "language": "python",
   "name": "python3"
  },
  "language_info": {
   "codemirror_mode": {
    "name": "ipython",
    "version": 3
   },
   "file_extension": ".py",
   "mimetype": "text/x-python",
   "name": "python",
   "nbconvert_exporter": "python",
   "pygments_lexer": "ipython3",
   "version": "3.12.4"
  }
 },
 "nbformat": 4,
 "nbformat_minor": 5
}
