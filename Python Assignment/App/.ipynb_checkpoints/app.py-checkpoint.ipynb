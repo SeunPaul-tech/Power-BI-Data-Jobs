{
 "cells": [
  {
   "cell_type": "markdown",
   "id": "a1979513-1bf9-4bda-b2cc-6d9116d6eac6",
   "metadata": {},
   "source": [
    "### Model Deployment"
   ]
  },
  {
   "cell_type": "code",
   "execution_count": 4,
   "id": "0e9d5e68-aee3-4db9-b024-56c43798ed55",
   "metadata": {},
   "outputs": [
    {
     "ename": "NameError",
     "evalue": "name 'model' is not defined",
     "output_type": "error",
     "traceback": [
      "\u001b[1;31m---------------------------------------------------------------------------\u001b[0m",
      "\u001b[1;31mNameError\u001b[0m                                 Traceback (most recent call last)",
      "Cell \u001b[1;32mIn[4], line 8\u001b[0m\n\u001b[0;32m      5\u001b[0m \u001b[38;5;28;01mimport\u001b[39;00m \u001b[38;5;21;01mnumpy\u001b[39;00m \u001b[38;5;28;01mas\u001b[39;00m \u001b[38;5;21;01mnp\u001b[39;00m\n\u001b[0;32m      7\u001b[0m \u001b[38;5;66;03m# Save model and scaler after training\u001b[39;00m\n\u001b[1;32m----> 8\u001b[0m joblib\u001b[38;5;241m.\u001b[39mdump(model, \u001b[38;5;124m'\u001b[39m\u001b[38;5;124mbreast_cancer_model.pkl\u001b[39m\u001b[38;5;124m'\u001b[39m)\n\u001b[0;32m      9\u001b[0m joblib\u001b[38;5;241m.\u001b[39mdump(scaler, \u001b[38;5;124m'\u001b[39m\u001b[38;5;124mscaler.pkl\u001b[39m\u001b[38;5;124m'\u001b[39m)\n\u001b[0;32m     11\u001b[0m \u001b[38;5;66;03m# Load trained model and scaler\u001b[39;00m\n",
      "\u001b[1;31mNameError\u001b[0m: name 'model' is not defined"
     ]
    }
   ],
   "source": [
    "# app.py\n",
    "\n",
    "import streamlit as st\n",
    "import joblib\n",
    "import numpy as np\n",
    "\n",
    "# Save model and scaler after training\n",
    "joblib.dump(model, 'breast_cancer_model.pkl')\n",
    "joblib.dump(scaler, 'scaler.pkl')\n",
    "\n",
    "# Load trained model and scaler\n",
    "model = joblib.load('breast_cancer_model.pkl')\n",
    "scaler = joblib.load('scaler.pkl')\n",
    "\n",
    "# App title and description\n",
    "st.title(\"🔬 Breast Cancer Prediction App\")\n",
    "st.markdown(\"This app predicts whether a breast tumor is **Malignant (cancerous)** or **Benign (non-cancerous)** based on diagnostic features.\")\n",
    "\n",
    "# Feature inputs\n",
    "st.header(\"Enter the diagnostic feature values:\")\n",
    "radius_mean = st.number_input('Radius Mean')\n",
    "texture_mean = st.number_input('Texture Mean')\n",
    "perimeter_mean = st.number_input('Perimeter Mean')\n",
    "area_mean = st.number_input('Area Mean')\n",
    "smoothness_mean = st.number_input('Smoothness Mean')\n",
    "compactness_mean = st.number_input('Compactness Mean')\n",
    "concavity_mean = st.number_input('Concavity Mean')\n",
    "concave_points_mean = st.number_input('Concave Points Mean')\n",
    "symmetry_mean = st.number_input('Symmetry Mean')\n",
    "fractal_dimension_mean = st.number_input('Fractal Dimension Mean')\n",
    "\n",
    "# Gather inputs\n",
    "input_features = np.array([[radius_mean, texture_mean, perimeter_mean, area_mean,\n",
    "                            smoothness_mean, compactness_mean, concavity_mean,\n",
    "                            concave_points_mean, symmetry_mean, fractal_dimension_mean]])\n",
    "\n",
    "# Predict\n",
    "if st.button('Predict'):\n",
    "    scaled_input = scaler.transform(input_features)\n",
    "    prediction = model.predict(scaled_input)[0]\n",
    "    probability = model.predict_proba(scaled_input)[0][1]\n",
    "\n",
    "    if prediction == 1:\n",
    "        st.error(f\"Prediction: **Malignant** (Confidence: {probability:.2%})\")\n",
    "    else:\n",
    "        st.success(f\"Prediction: **Benign** (Confidence: {1 - probability:.2%})\")\n"
   ]
  },
  {
   "cell_type": "code",
   "execution_count": null,
   "id": "7bc73457-8d17-4083-9e3d-ff1675646573",
   "metadata": {},
   "outputs": [],
   "source": []
  }
 ],
 "metadata": {
  "kernelspec": {
   "display_name": "Python 3 (ipykernel)",
   "language": "python",
   "name": "python3"
  },
  "language_info": {
   "codemirror_mode": {
    "name": "ipython",
    "version": 3
   },
   "file_extension": ".py",
   "mimetype": "text/x-python",
   "name": "python",
   "nbconvert_exporter": "python",
   "pygments_lexer": "ipython3",
   "version": "3.12.4"
  }
 },
 "nbformat": 4,
 "nbformat_minor": 5
}
