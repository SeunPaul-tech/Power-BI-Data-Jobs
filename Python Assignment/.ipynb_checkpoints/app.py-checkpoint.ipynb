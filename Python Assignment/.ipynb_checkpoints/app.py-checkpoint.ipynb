{
 "cells": [
  {
   "cell_type": "markdown",
   "id": "a1979513-1bf9-4bda-b2cc-6d9116d6eac6",
   "metadata": {},
   "source": [
    "### Model Deployment"
   ]
  },
  {
   "cell_type": "code",
   "execution_count": 4,
   "id": "0e9d5e68-aee3-4db9-b024-56c43798ed55",
   "metadata": {},
   "outputs": [
    {
     "ename": "FileNotFoundError",
     "evalue": "[Errno 2] No such file or directory: 'breast_cancer_model1.pkl'",
     "output_type": "error",
     "traceback": [
      "\u001b[1;31m---------------------------------------------------------------------------\u001b[0m",
      "\u001b[1;31mFileNotFoundError\u001b[0m                         Traceback (most recent call last)",
      "Cell \u001b[1;32mIn[4], line 8\u001b[0m\n\u001b[0;32m      5\u001b[0m \u001b[38;5;28;01mimport\u001b[39;00m \u001b[38;5;21;01mnumpy\u001b[39;00m \u001b[38;5;28;01mas\u001b[39;00m \u001b[38;5;21;01mnp\u001b[39;00m\n\u001b[0;32m      7\u001b[0m \u001b[38;5;66;03m# Load trained model and scaler\u001b[39;00m\n\u001b[1;32m----> 8\u001b[0m model \u001b[38;5;241m=\u001b[39m joblib\u001b[38;5;241m.\u001b[39mload(\u001b[38;5;124m'\u001b[39m\u001b[38;5;124mbreast_cancer_model1.pkl\u001b[39m\u001b[38;5;124m'\u001b[39m)\n\u001b[0;32m      9\u001b[0m scaler \u001b[38;5;241m=\u001b[39m joblib\u001b[38;5;241m.\u001b[39mload(\u001b[38;5;124m'\u001b[39m\u001b[38;5;124mscaler.pkl\u001b[39m\u001b[38;5;124m'\u001b[39m)\n\u001b[0;32m     11\u001b[0m \u001b[38;5;66;03m# App title and description\u001b[39;00m\n",
      "File \u001b[1;32m~\\.anaconda\\Anaconda\\Lib\\site-packages\\joblib\\numpy_pickle.py:650\u001b[0m, in \u001b[0;36mload\u001b[1;34m(filename, mmap_mode)\u001b[0m\n\u001b[0;32m    648\u001b[0m         obj \u001b[38;5;241m=\u001b[39m _unpickle(fobj)\n\u001b[0;32m    649\u001b[0m \u001b[38;5;28;01melse\u001b[39;00m:\n\u001b[1;32m--> 650\u001b[0m     \u001b[38;5;28;01mwith\u001b[39;00m \u001b[38;5;28mopen\u001b[39m(filename, \u001b[38;5;124m'\u001b[39m\u001b[38;5;124mrb\u001b[39m\u001b[38;5;124m'\u001b[39m) \u001b[38;5;28;01mas\u001b[39;00m f:\n\u001b[0;32m    651\u001b[0m         \u001b[38;5;28;01mwith\u001b[39;00m _read_fileobject(f, filename, mmap_mode) \u001b[38;5;28;01mas\u001b[39;00m fobj:\n\u001b[0;32m    652\u001b[0m             \u001b[38;5;28;01mif\u001b[39;00m \u001b[38;5;28misinstance\u001b[39m(fobj, \u001b[38;5;28mstr\u001b[39m):\n\u001b[0;32m    653\u001b[0m                 \u001b[38;5;66;03m# if the returned file object is a string, this means we\u001b[39;00m\n\u001b[0;32m    654\u001b[0m                 \u001b[38;5;66;03m# try to load a pickle file generated with an version of\u001b[39;00m\n\u001b[0;32m    655\u001b[0m                 \u001b[38;5;66;03m# Joblib so we load it with joblib compatibility function.\u001b[39;00m\n",
      "\u001b[1;31mFileNotFoundError\u001b[0m: [Errno 2] No such file or directory: 'breast_cancer_model1.pkl'"
     ]
    }
   ],
   "source": [
    "# app.py\n",
    "\n",
    "import streamlit as st\n",
    "import joblib\n",
    "import numpy as np\n",
    "\n",
    "# Load trained model and scaler\n",
    "model = joblib.load('breast_cancer_model1.pkl')\n",
    "scaler = joblib.load('scaler.pkl')\n",
    "\n",
    "# App title and description\n",
    "st.title(\"🔬 Breast Cancer Prediction App\")\n",
    "st.markdown(\"This app predicts whether a breast tumor is **Malignant (cancerous)** or **Benign (non-cancerous)** based on diagnostic features.\")\n",
    "\n",
    "# Feature inputs\n",
    "st.header(\"Enter the diagnostic feature values:\")\n",
    "radius_mean = st.number_input('Radius Mean')\n",
    "texture_mean = st.number_input('Texture Mean')\n",
    "perimeter_mean = st.number_input('Perimeter Mean')\n",
    "area_mean = st.number_input('Area Mean')\n",
    "smoothness_mean = st.number_input('Smoothness Mean')\n",
    "compactness_mean = st.number_input('Compactness Mean')\n",
    "concavity_mean = st.number_input('Concavity Mean')\n",
    "concave_points_mean = st.number_input('Concave Points Mean')\n",
    "symmetry_mean = st.number_input('Symmetry Mean')\n",
    "fractal_dimension_mean = st.number_input('Fractal Dimension Mean')\n",
    "\n",
    "# Gather inputs\n",
    "input_features = np.array([[radius_mean, texture_mean, perimeter_mean, area_mean,\n",
    "                            smoothness_mean, compactness_mean, concavity_mean,\n",
    "                            concave_points_mean, symmetry_mean, fractal_dimension_mean]])\n",
    "\n",
    "# Predict\n",
    "if st.button('Predict'):\n",
    "    scaled_input = scaler.transform(input_features)\n",
    "    prediction = model.predict(scaled_input)[0]\n",
    "    probability = model.predict_proba(scaled_input)[0][1]\n",
    "\n",
    "    if prediction == 1:\n",
    "        st.error(f\"Prediction: **Malignant** (Confidence: {probability:.2%})\")\n",
    "    else:\n",
    "        st.success(f\"Prediction: **Benign** (Confidence: {1 - probability:.2%})\")\n"
   ]
  },
  {
   "cell_type": "code",
   "execution_count": null,
   "id": "7bc73457-8d17-4083-9e3d-ff1675646573",
   "metadata": {},
   "outputs": [],
   "source": []
  }
 ],
 "metadata": {
  "kernelspec": {
   "display_name": "Python 3 (ipykernel)",
   "language": "python",
   "name": "python3"
  },
  "language_info": {
   "codemirror_mode": {
    "name": "ipython",
    "version": 3
   },
   "file_extension": ".py",
   "mimetype": "text/x-python",
   "name": "python",
   "nbconvert_exporter": "python",
   "pygments_lexer": "ipython3",
   "version": "3.12.4"
  }
 },
 "nbformat": 4,
 "nbformat_minor": 5
}
